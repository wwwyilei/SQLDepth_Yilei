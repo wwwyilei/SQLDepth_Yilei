{
 "cells": [
  {
   "cell_type": "code",
   "execution_count": 6,
   "metadata": {},
   "outputs": [],
   "source": [
    "from PIL import Image\n",
    "import os\n",
    "\n",
    "def jpg_to_png(input_folder):\n",
    "    # 递归遍历输入文件夹及其所有子文件夹中的文件\n",
    "    for root, dirs, files in os.walk(input_folder):\n",
    "        for filename in files:\n",
    "            if filename.endswith(('.jpg', '.JPG')):\n",
    "                # 构造输入和输出文件的完整路径\n",
    "                input_path = os.path.join(root, filename)\n",
    "                output_path = os.path.splitext(input_path)[0] + '.png'\n",
    "                \n",
    "                # 打开JPG图片并保存为PNG格式（覆盖原始文件）\n",
    "                with Image.open(input_path) as img:\n",
    "                    img.save(output_path, 'PNG')\n",
    "                    print(f\"Converted {input_path} to {output_path}\")\n",
    "\n",
    "# 指定输入文件夹\n",
    "input_folder = r\"D:\\\\GitHub\\\\Monovit\\\\kitti_data\\\\\"\n",
    "\n",
    "# 调用函数进行转换\n",
    "jpg_to_png(input_folder)\n",
    "\n"
   ]
  },
  {
   "cell_type": "code",
   "execution_count": 1,
   "metadata": {},
   "outputs": [],
   "source": [
    "import cv2\n",
    "import os\n",
    "\n",
    "def extract_frames(video_path, output_folder, frame_interval=1):\n",
    "    # 创建输出文件夹\n",
    "    os.makedirs(output_folder, exist_ok=True)\n",
    "    \n",
    "    # 打开视频文件\n",
    "    cap = cv2.VideoCapture(video_path)\n",
    "    \n",
    "    # 视频帧计数\n",
    "    frame_count = 0\n",
    "    \n",
    "    # 读取视频帧直到结束\n",
    "    while True:\n",
    "        # 读取视频帧\n",
    "        ret, frame = cap.read()\n",
    "        \n",
    "        # 如果视频帧读取完毕，则退出循环\n",
    "        if not ret:\n",
    "            break\n",
    "        \n",
    "        # 如果帧计数符合保存间隔，则保存视频帧为PNG图片\n",
    "        if frame_count % frame_interval == 0:\n",
    "            # 构造输出文件路径\n",
    "            output_path = os.path.join(output_folder, f\"{frame_count}.png\")\n",
    "            \n",
    "            # 保存视频帧为PNG图片\n",
    "            cv2.imwrite(output_path, frame)\n",
    "        \n",
    "        # 更新视频帧计数\n",
    "        frame_count += 1\n",
    "    \n",
    "    # 释放视频文件对象\n",
    "    cap.release()\n",
    "\n",
    "# 指定视频文件路径和输出文件夹\n",
    "video_path = r\"D:\\\\Jianying\\\\720p.mp4\"\n",
    "output_folder = r\"D:\\\\video_data\"\n",
    "\n",
    "# 指定保存帧的间隔（例如，每隔10帧保存一次）\n",
    "frame_interval = 6\n",
    "\n",
    "# 调用函数提取视频帧\n",
    "extract_frames(video_path, output_folder, frame_interval)\n"
   ]
  }
 ],
 "metadata": {
  "kernelspec": {
   "display_name": "monovit",
   "language": "python",
   "name": "python3"
  },
  "language_info": {
   "codemirror_mode": {
    "name": "ipython",
    "version": 3
   },
   "file_extension": ".py",
   "mimetype": "text/x-python",
   "name": "python",
   "nbconvert_exporter": "python",
   "pygments_lexer": "ipython3",
   "version": "3.8.19"
  }
 },
 "nbformat": 4,
 "nbformat_minor": 2
}
